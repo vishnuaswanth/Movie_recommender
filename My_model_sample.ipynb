{
  "cells": [
    {
      "cell_type": "markdown",
      "metadata": {
        "id": "view-in-github",
        "colab_type": "text"
      },
      "source": [
        "<a href=\"https://colab.research.google.com/github/vishnuaswanth/Movie_recommender/blob/main/My_model_sample.ipynb\" target=\"_parent\"><img src=\"https://colab.research.google.com/assets/colab-badge.svg\" alt=\"Open In Colab\"/></a>"
      ]
    },
    {
      "cell_type": "code",
      "execution_count": null,
      "metadata": {
        "colab": {
          "base_uri": "https://localhost:8080/"
        },
        "id": "b8vvTR0CITz0",
        "outputId": "1c4226ed-e85c-4acf-c736-4f85449936a7"
      },
      "outputs": [
        {
          "output_type": "stream",
          "name": "stdout",
          "text": [
            "Mounted at /content/drive\n"
          ]
        }
      ],
      "source": [
        "from google.colab import drive\n",
        "drive.mount('/content/drive')"
      ]
    },
    {
      "cell_type": "code",
      "execution_count": null,
      "metadata": {
        "id": "nl2tU6kL8Ot3"
      },
      "outputs": [],
      "source": [
        "import os\n",
        "from time import time\n",
        "from scipy.sparse import csc_matrix\n",
        "import pandas as pd\n",
        "import numpy as np\n",
        "import h5py\n",
        "import torch\n",
        "import torch.nn as nn\n",
        "import torch.nn.functional as F\n",
        "import torch.optim as optim\n",
        "from torch.autograd import Variable\n",
        "from torch.utils.data import Dataset, DataLoader\n",
        "from torch.nn.parameter import Parameter\n",
        "from sklearn.model_selection import train_test_split\n",
        "from sklearn.ensemble import RandomForestRegressor\n",
        "from sklearn.svm import SVR\n",
        "from sklearn.metrics import mean_squared_error, mean_absolute_error, root_mean_squared_error\n",
        "from sklearn.decomposition import PCA\n",
        "import matplotlib.pyplot as plt\n",
        "import seaborn as sns\n",
        "import joblib\n",
        "import itertools\n",
        "\n",
        "\n",
        "\n",
        "torch.manual_seed(1284)\n",
        "device = torch.device(\"cuda:0\" if torch.cuda.is_available() else \"cpu\")"
      ]
    },
    {
      "cell_type": "code",
      "execution_count": null,
      "metadata": {
        "id": "XHHhHJjlb_A8"
      },
      "outputs": [],
      "source": [
        "os.chdir('/content/drive/MyDrive/Main project - Movie recommender/ml-25m/')\n"
      ]
    },
    {
      "cell_type": "markdown",
      "metadata": {
        "id": "yj9tagwwvvF-"
      },
      "source": [
        "Create model metrics only when model_metrics csv not found"
      ]
    },
    {
      "cell_type": "code",
      "execution_count": null,
      "metadata": {
        "id": "79oJ7-6dvngM"
      },
      "outputs": [],
      "source": [
        "# ==================================================================\n",
        "# Check if model_metrics.csv already exists, if not then run this\n",
        "# ==================================================================\n",
        "\n",
        "model_metrics_df = pd.DataFrame(columns=['model_name','number_of_users', 'number_of_movies','RMSE', 'MAE', 'NDCG', 'NDCG_10'])"
      ]
    },
    {
      "cell_type": "markdown",
      "metadata": {
        "id": "PzBVdbKv5sKp"
      },
      "source": [
        "## Genome matrix"
      ]
    },
    {
      "cell_type": "code",
      "execution_count": null,
      "metadata": {
        "id": "0Ovvxz_zjE2c"
      },
      "outputs": [],
      "source": [
        "def create_train_test_data_for_genome(path='./', train_movies = 500, test_movies = 500):\n",
        "    genome_base_data = pd.read_csv(path+'genome-scores.csv')\n",
        "    genome_base_data['relevance'] = genome_base_data['relevance'].astype(float)\n",
        "\n",
        "    sorted_unique_movies = sorted(genome_base_data['movieId'].unique())\n",
        "\n",
        "    train_movie_set = sorted_unique_movies[:train_movies]\n",
        "    test_movie_set = sorted_unique_movies[:test_movies]\n",
        "\n",
        "    train_data = genome_base_data[genome_base_data['movieId'].isin(train_movie_set)]\n",
        "    test_data = genome_base_data[genome_base_data['movieId'].isin(test_movie_set)]\n",
        "    train_matrix = train_data.pivot(index='movieId', columns='tagId', values='relevance')\n",
        "    test_matrix = test_data.pivot(index='movieId', columns='tagId', values='relevance')\n",
        "\n",
        "    train_matrix = train_matrix.fillna(1e-12)\n",
        "    test_matrix = test_matrix.fillna(1e-12)\n",
        "\n",
        "    train_matrix = train_matrix.reset_index()\n",
        "    test_matrix = test_matrix.reset_index()\n",
        "\n",
        "    print(f'Number of unique movies in genome data: {len(sorted_unique_movies)}')\n",
        "    print(f'Number of movies to train: {len(train_movie_set)}')\n",
        "    print(f'Number of movies to test: {len(test_movie_set)}')\n",
        "    print(f'train matrix shape {train_matrix.shape}')\n",
        "    print(f'test matrix shape {test_matrix.shape}')\n",
        "    return train_matrix, test_matrix, test_movie_set, train_movie_set"
      ]
    },
    {
      "cell_type": "code",
      "execution_count": null,
      "metadata": {
        "colab": {
          "base_uri": "https://localhost:8080/"
        },
        "id": "JqsIgT2qlI--",
        "outputId": "1dc2d99d-44cb-4cbf-fae1-36eb18eb4192"
      },
      "outputs": [
        {
          "output_type": "stream",
          "name": "stdout",
          "text": [
            "Number of unique movies in genome data: 13816\n",
            "Number of movies to train: 500\n",
            "Number of movies to test: 1000\n",
            "train matrix shape (500, 1129)\n",
            "test matrix shape (1000, 1129)\n"
          ]
        }
      ],
      "source": [
        "train_matrix, test_matrix, movie_list, train_movie_list = create_train_test_data_for_genome('',1000, 3000)"
      ]
    },
    {
      "cell_type": "markdown",
      "metadata": {
        "id": "2rBfVdzriUXh"
      },
      "source": [
        "# Review Data"
      ]
    },
    {
      "cell_type": "markdown",
      "metadata": {
        "id": "-usIXFi0569W"
      },
      "source": [
        "# Load Ratings Data"
      ]
    },
    {
      "cell_type": "code",
      "execution_count": null,
      "metadata": {
        "id": "2mDuXw4HFUfc"
      },
      "outputs": [],
      "source": [
        "def create_train_test_data_for_reviews(total_movie_list, train_movie_list, n_u=2000, path='./'):\n",
        "    ratings_data = pd.read_csv(path+'ratings.csv')\n",
        "    ratings_data['rating'] = ratings_data['rating'].astype(float)\n",
        "\n",
        "    # Convert userId to categorical and get unique values\n",
        "    ratings_data['userId'] = pd.Categorical(ratings_data['userId'])\n",
        "\n",
        "    # Encode userId to ensure it is zero-indexed\n",
        "    ratings_data['userId'] = ratings_data['userId'].cat.codes\n",
        "\n",
        "    test_rating_data = ratings_data[ratings_data['movieId'].isin(total_movie_list)] # I will predict rating for all movies (train+test movies)\n",
        "    train_rating_data = ratings_data[ratings_data['movieId'].isin(train_movie_list)] # I will predict rating for only train movies\n",
        "\n",
        "    un_users = sorted(test_rating_data['userId'].unique())[:n_u]\n",
        "\n",
        "    test_rating_data = test_rating_data[test_rating_data['userId'].isin(un_users)]\n",
        "    train_rating_data = train_rating_data[train_rating_data['userId'].isin(un_users)]\n",
        "\n",
        "    print(f'test data shape {test_rating_data.shape}')\n",
        "    print(f'train data shape {train_rating_data.shape}')\n",
        "    print(f'Number of reviewers considered: {len(un_users)}')\n",
        "\n",
        "    return test_rating_data, train_rating_data, un_users\n"
      ]
    },
    {
      "cell_type": "code",
      "execution_count": null,
      "metadata": {
        "colab": {
          "base_uri": "https://localhost:8080/"
        },
        "id": "uVykBC8fIzIX",
        "outputId": "9e9b9b6e-c40c-453d-b5eb-c3a3e1ec2cd4"
      },
      "outputs": [
        {
          "output_type": "stream",
          "name": "stdout",
          "text": [
            "test data shape (36678, 4)\n",
            "train data shape (21741, 4)\n",
            "Number of reviewers considered: 1000\n"
          ]
        }
      ],
      "source": [
        "test_rating_data, train_rating_data, un_users = create_train_test_data_for_reviews(movie_list, train_movie_list)"
      ]
    },
    {
      "cell_type": "markdown",
      "metadata": {
        "id": "82LDh06M6MAR"
      },
      "source": [
        "# Merge Rating data with Genome Matrix"
      ]
    },
    {
      "cell_type": "code",
      "source": [
        "def merge_rating_data_with_genome_matrix(df, matrix):\n",
        "    merged_data = pd.merge(df, matrix, on='movieId', how='left')\n",
        "    print(f'merged data shape {merged_data.shape}')\n",
        "    return merged_data"
      ],
      "metadata": {
        "id": "7o7r-AGH6aUV"
      },
      "execution_count": null,
      "outputs": []
    },
    {
      "cell_type": "code",
      "source": [
        "merged_training_data = merge_rating_data_with_genome_matrix(train_rating_data, train_matrix)"
      ],
      "metadata": {
        "colab": {
          "base_uri": "https://localhost:8080/"
        },
        "id": "PkhuDdeM6pO0",
        "outputId": "20cc25aa-6f6d-4b38-c7a3-bade9e0b5cf2"
      },
      "execution_count": null,
      "outputs": [
        {
          "output_type": "stream",
          "name": "stdout",
          "text": [
            "merged data shape (21741, 1132)\n"
          ]
        }
      ]
    },
    {
      "cell_type": "code",
      "source": [
        "merged_test_data = merge_rating_data_with_genome_matrix(test_rating_data, test_matrix)"
      ],
      "metadata": {
        "colab": {
          "base_uri": "https://localhost:8080/"
        },
        "id": "cFskcH-j69AO",
        "outputId": "2dff0406-e09a-4ee9-cf1b-f4b6e5d0390d"
      },
      "execution_count": null,
      "outputs": [
        {
          "output_type": "stream",
          "name": "stdout",
          "text": [
            "merged data shape (36678, 1132)\n"
          ]
        }
      ]
    },
    {
      "cell_type": "markdown",
      "metadata": {
        "id": "NmMa-le06S6W"
      },
      "source": [
        "### Make train and test data out of merged training data"
      ]
    },
    {
      "cell_type": "code",
      "execution_count": null,
      "metadata": {
        "id": "I-RWb4WJdV-9"
      },
      "outputs": [],
      "source": [
        "train_df, val_df = train_test_split(merged_training_data, test_size=0.15, random_state=42)"
      ]
    },
    {
      "cell_type": "markdown",
      "metadata": {
        "id": "tv3ffzqx4cD5"
      },
      "source": [
        "# Tensors"
      ]
    },
    {
      "cell_type": "code",
      "execution_count": null,
      "metadata": {
        "id": "Oe444uxTbpxp"
      },
      "outputs": [],
      "source": [
        "def convert_data_to_tensors(df):\n",
        "\n",
        "    # Convert userId to tensors\n",
        "    user_ids = torch.tensor(df['userId'].values, dtype=torch.long)\n",
        "\n",
        "    # Drop userId from the rest of the features as it's now embedded\n",
        "    genome_features = torch.tensor(df.drop(columns=['userId', 'movieId', 'rating', 'timestamp']).values, dtype=torch.float32)\n",
        "\n",
        "    # Target tensors\n",
        "    y_tensor = torch.tensor(df['rating'].values, dtype=torch.float32).view(-1, 1)\n",
        "\n",
        "    return user_ids, genome_features, y_tensor\n",
        "\n"
      ]
    },
    {
      "cell_type": "code",
      "execution_count": null,
      "metadata": {
        "id": "aoECl_vXeGZS"
      },
      "outputs": [],
      "source": [
        "user_ids_train, genome_features_train, y_train_tensor = convert_data_to_tensors(train_df)\n",
        "user_ids_val, genome_features_val, y_val_tensor = convert_data_to_tensors(val_df)\n",
        "test_user_ids, test_genome_features, test_y_tensor = convert_data_to_tensors(merged_test_data)\n",
        "test_NDCG_user_ids, test_NDCG_genome_features, test_NDCG_y_tensor = convert_data_to_tensors(test_NDCG_data)"
      ]
    },
    {
      "cell_type": "code",
      "execution_count": null,
      "metadata": {
        "id": "X4hVlJ6Fg4ar"
      },
      "outputs": [],
      "source": [
        "max_user_id = max(torch.max(user_ids_train).item(), torch.max(user_ids_val).item(), torch.max(test_user_ids).item())\n"
      ]
    },
    {
      "cell_type": "markdown",
      "metadata": {
        "id": "CKBUTSpt4hVO"
      },
      "source": [
        "## Neural network model and Embedding creation"
      ]
    },
    {
      "cell_type": "code",
      "execution_count": null,
      "metadata": {
        "id": "QaPkKTSmzUMs"
      },
      "outputs": [],
      "source": [
        "### Model with Embeddings ###\n",
        "\n",
        "# Define a neural network with user embeddings and dropout layers\n",
        "class PerceptronWithEmbedding(nn.Module):\n",
        "    def __init__(self, num_users, embedding_dim, genome_dim):\n",
        "        super(PerceptronWithEmbedding, self).__init__()\n",
        "\n",
        "        # Embedding layer for userId\n",
        "        self.user_embedding = nn.Embedding(num_users, embedding_dim)\n",
        "\n",
        "        # Fully connected layers\n",
        "        self.fc1 = nn.Linear(embedding_dim + genome_dim, 128)\n",
        "        self.dropout1 = nn.Dropout(0.3)\n",
        "        self.fc2 = nn.Linear(128, 64)\n",
        "        self.dropout2 = nn.Dropout(0.3)\n",
        "        self.fc3 = nn.Linear(64, 32)\n",
        "        self.dropout3 = nn.Dropout(0.3)\n",
        "        self.fc4 = nn.Linear(32, 1)  # Output layer for regression\n",
        "\n",
        "    def forward(self, user_id, genome_features):\n",
        "        # Embed user_id and concatenate with genome features\n",
        "        user_embedded = self.user_embedding(user_id)\n",
        "        x = torch.cat((user_embedded, genome_features), dim=1)\n",
        "\n",
        "        # Pass through fully connected layers\n",
        "        x = torch.relu(self.fc1(x))\n",
        "        x = self.dropout1(x)\n",
        "        x = torch.relu(self.fc2(x))\n",
        "        x = self.dropout2(x)\n",
        "        x = torch.relu(self.fc3(x))\n",
        "        x = self.dropout3(x)\n",
        "        return self.fc4(x)\n"
      ]
    },
    {
      "cell_type": "markdown",
      "metadata": {
        "id": "tlAyvHOz4rwg"
      },
      "source": [
        "### Initialize the Neural Network and the embeddings"
      ]
    },
    {
      "cell_type": "code",
      "execution_count": null,
      "metadata": {
        "id": "lNMnkCMi1LkZ"
      },
      "outputs": [],
      "source": [
        "# Initialize model with embedding\n",
        "dim_u = max_user_id + 1 # Number of unique users\n",
        "embedding_dim = 500  # Embedding space dimension for users\n",
        "genome_dim = genome_features_train.shape[1]  # Dimension of genome features\n",
        "\n",
        "model = PerceptronWithEmbedding(num_users=dim_u, embedding_dim=embedding_dim, genome_dim=genome_dim)\n",
        "\n",
        "# Loss function and optimizer\n",
        "criterion = nn.MSELoss()\n",
        "optimizer = optim.Adam(model.parameters(), lr=0.01)"
      ]
    },
    {
      "cell_type": "markdown",
      "metadata": {
        "id": "vPQ4ys-a41GB"
      },
      "source": [
        "### Train Neural Network"
      ]
    },
    {
      "cell_type": "code",
      "execution_count": null,
      "metadata": {
        "colab": {
          "background_save": true,
          "base_uri": "https://localhost:8080/"
        },
        "id": "t9oC1QtnzZXD",
        "outputId": "1da39084-893d-4457-ddbd-e70d85153569"
      },
      "outputs": [
        {
          "name": "stdout",
          "output_type": "stream",
          "text": [
            "Epoch 1, Loss: 14.926592826843262\n",
            "Epoch 51, Loss: 1.4952545166015625\n",
            "Epoch 101, Loss: 1.2745264768600464\n",
            "Epoch 151, Loss: 1.0872846841812134\n",
            "Epoch 201, Loss: 0.9718148708343506\n",
            "Epoch 251, Loss: 0.8781037926673889\n",
            "Epoch 301, Loss: 0.8189628720283508\n",
            "Epoch 351, Loss: 0.7752320766448975\n",
            "Epoch 401, Loss: 0.7217406630516052\n",
            "Epoch 451, Loss: 0.6794877052307129\n",
            "Epoch 501, Loss: 0.6411100625991821\n",
            "Epoch 551, Loss: 0.6130377054214478\n",
            "Epoch 601, Loss: 0.5808885097503662\n",
            "Epoch 651, Loss: 0.5553146004676819\n",
            "Epoch 701, Loss: 0.5288379192352295\n",
            "Epoch 751, Loss: 0.506364107131958\n",
            "Epoch 801, Loss: 0.48895135521888733\n",
            "Epoch 851, Loss: 0.4739910662174225\n",
            "Epoch 901, Loss: 0.4621239900588989\n",
            "Epoch 951, Loss: 0.4525378346443176\n",
            "Epoch 1001, Loss: 0.4307727813720703\n",
            "Epoch 1051, Loss: 0.42035460472106934\n",
            "Epoch 1101, Loss: 0.4126986861228943\n",
            "Epoch 1151, Loss: 0.39761289954185486\n",
            "Epoch 1201, Loss: 0.3922157287597656\n",
            "Epoch 1251, Loss: 0.38237544894218445\n",
            "Epoch 1301, Loss: 0.3733557462692261\n",
            "Epoch 1351, Loss: 0.3695220351219177\n",
            "Epoch 1401, Loss: 0.3622504472732544\n",
            "Epoch 1451, Loss: 0.35770174860954285\n"
          ]
        }
      ],
      "source": [
        "# Training loop\n",
        "epochs = 1500\n",
        "for epoch in range(epochs):\n",
        "    model.train()\n",
        "    optimizer.zero_grad()\n",
        "    outputs = model(user_ids_train, genome_features_train)\n",
        "    loss = criterion(outputs, y_train_tensor)\n",
        "    loss.backward()\n",
        "    optimizer.step()\n",
        "    if epoch % 50 == 0:\n",
        "      print(f\"Epoch {epoch + 1}, Loss: {loss.item()}\")\n",
        "\n",
        "# Validation\n",
        "model.eval()\n",
        "with torch.no_grad():\n",
        "    val_preds = model(user_ids_val, genome_features_val).squeeze().numpy()\n",
        "y_val = y_val_tensor.squeeze().numpy()\n",
        "mse_nn = mean_squared_error(y_val, val_preds)\n",
        "\n"
      ]
    },
    {
      "cell_type": "code",
      "execution_count": null,
      "metadata": {
        "id": "NorkUzZe5bbc",
        "colab": {
          "base_uri": "https://localhost:8080/"
        },
        "outputId": "c0d1f9d0-bf5a-44bf-9c49-c473883410c0"
      },
      "outputs": [
        {
          "output_type": "stream",
          "name": "stdout",
          "text": [
            "Neural Network - Validation score - MSE - 0.7903012037277222\n"
          ]
        }
      ],
      "source": [
        "# Print Validation test reults\n",
        "print(f'Neural Network - Validation score - MSE - {mse_nn}')"
      ]
    },
    {
      "cell_type": "markdown",
      "metadata": {
        "id": "EB9k-TVR480r"
      },
      "source": [
        "### Save the Neural Network parameter weights"
      ]
    },
    {
      "cell_type": "code",
      "execution_count": null,
      "metadata": {
        "id": "Jn3ApmfIm0zl"
      },
      "outputs": [],
      "source": [
        "# Save the neural network model\n",
        "torch.save(model.state_dict(), 'pytorch_my_model.pth')"
      ]
    },
    {
      "cell_type": "markdown",
      "metadata": {
        "id": "9WcvZMvk5RCM"
      },
      "source": [
        "## Get Neural Network Model metrics\n",
        "\n",
        "\n"
      ]
    },
    {
      "cell_type": "code",
      "execution_count": null,
      "metadata": {
        "id": "xANYQUrUjwxe"
      },
      "outputs": [],
      "source": [
        "# Validation\n",
        "model.eval()\n",
        "with torch.no_grad():\n",
        "    test_preds_nn = model(test_user_ids, test_genome_features).squeeze().numpy()\n",
        "y_test = test_y_tensor.squeeze().numpy()\n",
        "# mse_test_nn = mean_squared_error(y_test, test_preds_nn)\n",
        "rmse_test_nn = root_mean_squared_error(y_test, test_preds_nn)\n",
        "mae_test_nn = mean_absolute_error(y_test, test_preds_nn)\n"
      ]
    },
    {
      "cell_type": "code",
      "source": [
        "print(f'Neural network test score - MAE - {mae_test_nn}')\n",
        "print(f'Neural network test score - RMSE - {rmse_test_nn}')"
      ],
      "metadata": {
        "colab": {
          "base_uri": "https://localhost:8080/"
        },
        "id": "v1fkREUn9PgB",
        "outputId": "3acf53d2-0ea0-43df-affd-d7da72158f47"
      },
      "execution_count": null,
      "outputs": [
        {
          "output_type": "stream",
          "name": "stdout",
          "text": [
            "Neural network test score - MAE - 0.5637496709823608\n",
            "Neural network test score - RMSE - 0.7770323157310486\n"
          ]
        }
      ]
    },
    {
      "cell_type": "code",
      "execution_count": null,
      "metadata": {
        "id": "auACHmHNnxpk"
      },
      "outputs": [],
      "source": [
        "best_preds = test_preds_nn # for NDCG calculation"
      ]
    },
    {
      "cell_type": "markdown",
      "metadata": {
        "id": "CoQpHHpP5zLC"
      },
      "source": [
        "# Load Neural Network if already found"
      ]
    },
    {
      "cell_type": "code",
      "execution_count": null,
      "metadata": {
        "colab": {
          "base_uri": "https://localhost:8080/"
        },
        "id": "oCWeicvOnDWt",
        "outputId": "f280e9c6-3dc9-4f97-80fe-ea339a68af70"
      },
      "outputs": [
        {
          "name": "stderr",
          "output_type": "stream",
          "text": [
            "<ipython-input-18-059ac218fda7>:1: FutureWarning: You are using `torch.load` with `weights_only=False` (the current default value), which uses the default pickle module implicitly. It is possible to construct malicious pickle data which will execute arbitrary code during unpickling (See https://github.com/pytorch/pytorch/blob/main/SECURITY.md#untrusted-models for more details). In a future release, the default value for `weights_only` will be flipped to `True`. This limits the functions that could be executed during unpickling. Arbitrary objects will no longer be allowed to be loaded via this mode unless they are explicitly allowlisted by the user via `torch.serialization.add_safe_globals`. We recommend you start setting `weights_only=True` for any use case where you don't have full control of the loaded file. Please open an issue on GitHub for any issues related to this experimental feature.\n",
            "  model.load_state_dict(torch.load('pytorch_my_model.pth'))\n"
          ]
        },
        {
          "data": {
            "text/plain": [
              "PerceptronWithEmbedding(\n",
              "  (user_embedding): Embedding(2006, 500)\n",
              "  (fc1): Linear(in_features=1628, out_features=128, bias=True)\n",
              "  (dropout1): Dropout(p=0.3, inplace=False)\n",
              "  (fc2): Linear(in_features=128, out_features=64, bias=True)\n",
              "  (dropout2): Dropout(p=0.3, inplace=False)\n",
              "  (fc3): Linear(in_features=64, out_features=32, bias=True)\n",
              "  (dropout3): Dropout(p=0.3, inplace=False)\n",
              "  (fc4): Linear(in_features=32, out_features=1, bias=True)\n",
              ")"
            ]
          },
          "execution_count": 18,
          "metadata": {},
          "output_type": "execute_result"
        }
      ],
      "source": [
        "model.load_state_dict(torch.load('pytorch_my_model.pth'))\n",
        "model.eval()"
      ]
    },
    {
      "cell_type": "markdown",
      "metadata": {
        "id": "1Rr854qq6l3p"
      },
      "source": [
        "# Feature Space preparation for training and predicting linear model"
      ]
    },
    {
      "cell_type": "code",
      "execution_count": null,
      "metadata": {
        "id": "xSbKNEkFtvbn"
      },
      "outputs": [],
      "source": [
        "class MachineLearningModel():\n",
        "    def __init__(self, embeddings):\n",
        "        self.embeddings = embeddings\n",
        "\n",
        "    def get_input_embeddings(self, df):\n",
        "        # Convert userId to tensors\n",
        "        input_embeddings = np.array([self.embeddings[user_id] for user_id in df['userId']])\n",
        "        return input_embeddings\n",
        "\n",
        "    def hstack_data(self, input_embeddings, other_features):\n",
        "        return np.hstack((input_embeddings, other_features))\n",
        "\n",
        "    def prepare_data(self, df):\n",
        "        # Convert userId to tensors\n",
        "        input_embeddings = self.get_input_embeddings(df)\n",
        "        input_linear_model = self.hstack_data(input_embeddings, df.drop(columns=['userId', 'movieId', 'rating', 'timestamp']).values)\n",
        "        return input_linear_model\n",
        "\n",
        "    def initialize_PCA(self, X, n_components=100):\n",
        "        pca = PCA(n_components=n_components)\n",
        "        pca.fit(X)\n",
        "        self.PCA = pca\n",
        "        return\n",
        "\n",
        "    def transform_data(self, X):\n",
        "        return self.PCA.transform(X)\n",
        "\n",
        "    def prepare_data_PCA(self, df):\n",
        "        # Convert userId to tensors\n",
        "        input_embeddings = self.get_input_embeddings(df)\n",
        "        input_feature_PCA = df.drop(columns=['userId', 'movieId', 'rating', 'timestamp']).values\n",
        "        PCA_feature = self.transform_data(input_feature_PCA)\n",
        "        input_linear_model = self.hstack_data(input_embeddings, PCA_feature)\n",
        "        return input_linear_model"
      ]
    },
    {
      "cell_type": "code",
      "execution_count": null,
      "metadata": {
        "id": "55Yerk6WwbSx"
      },
      "outputs": [],
      "source": [
        "input_mlm = MachineLearningModel(model.user_embedding.weight.detach().numpy())"
      ]
    },
    {
      "cell_type": "code",
      "execution_count": null,
      "metadata": {
        "id": "1jFQbIyljja5"
      },
      "outputs": [],
      "source": [
        "X_train_lm = input_mlm.prepare_data(train_df)\n",
        "X_val_lm = input_mlm.prepare_data(val_df)\n",
        "X_test_lm = input_mlm.prepare_data(merged_test_data)"
      ]
    },
    {
      "cell_type": "code",
      "execution_count": null,
      "metadata": {
        "id": "zPnNBhwhhS1i"
      },
      "outputs": [],
      "source": [
        "# Do this for fitting PCA, default changes to 100 dim - only genome column space\n",
        "input_mlm.initialize_PCA(train_df.drop(columns=['userId', 'movieId', 'rating', 'timestamp']).values)\n"
      ]
    },
    {
      "cell_type": "code",
      "execution_count": null,
      "metadata": {
        "id": "WwoSM9YmkdNm"
      },
      "outputs": [],
      "source": [
        "X_PCA_train_lm = input_mlm.prepare_data_PCA(train_df)\n",
        "X_PCA_val_lm = input_mlm.prepare_data_PCA(val_df)\n",
        "X_PCA_test_lm = input_mlm.prepare_data_PCA(merged_test_data)"
      ]
    },
    {
      "cell_type": "markdown",
      "metadata": {
        "id": "sd703WRj2Is4"
      },
      "source": [
        "# SVR Model"
      ]
    },
    {
      "cell_type": "code",
      "execution_count": null,
      "metadata": {
        "id": "JKfkSEW9DBJL"
      },
      "outputs": [],
      "source": [
        "# Support Vector Machine Model\n",
        "svm = SVR(max_iter=1000)\n",
        "svm.fit(X_train_lm, train_df['rating'].values)\n",
        "svm_preds = svm.predict(X_val_lm)\n",
        "mse_svm = mean_squared_error(val_df['rating'].values, svm_preds)\n",
        "\n"
      ]
    },
    {
      "cell_type": "code",
      "execution_count": null,
      "metadata": {
        "id": "NjmAsHoVVSPD"
      },
      "outputs": [],
      "source": [
        "svm_preds_test = svm.predict(X_test_lm)\n",
        "mse_svm_test = mean_squared_error(merged_test_data['rating'].values, svm_preds_test)"
      ]
    },
    {
      "cell_type": "code",
      "execution_count": null,
      "metadata": {
        "colab": {
          "base_uri": "https://localhost:8080/"
        },
        "id": "ykuNv6cMlfa3",
        "outputId": "d641de59-a5da-4f0f-bc2a-4805a92f12b3"
      },
      "outputs": [
        {
          "name": "stderr",
          "output_type": "stream",
          "text": [
            "/usr/local/lib/python3.10/dist-packages/sklearn/svm/_base.py:297: ConvergenceWarning: Solver terminated early (max_iter=5000).  Consider pre-processing your data with StandardScaler or MinMaxScaler.\n",
            "  warnings.warn(\n"
          ]
        }
      ],
      "source": [
        "# Support Vector Machine Model\n",
        "svm_PCA = SVR(max_iter=5000)\n",
        "svm_PCA.fit(X_PCA_train_lm, train_df['rating'].values)\n",
        "svm_PCA_preds = svm_PCA.predict(X_PCA_val_lm)\n",
        "mse_svm = mean_squared_error(val_df['rating'].values, svm_PCA_preds)"
      ]
    },
    {
      "cell_type": "code",
      "execution_count": null,
      "metadata": {
        "id": "bwDbEU2v7mak"
      },
      "outputs": [],
      "source": [
        "# View Validation score\n",
        "print(f'SMR - RBF kernel with PCA validation score - MSE - {mse_svm}')"
      ]
    },
    {
      "cell_type": "markdown",
      "metadata": {
        "id": "ZrTVr4yr7eKv"
      },
      "source": [
        "### Save SVR weights"
      ]
    },
    {
      "cell_type": "code",
      "execution_count": null,
      "metadata": {
        "colab": {
          "base_uri": "https://localhost:8080/"
        },
        "id": "4ogIYZa7ueyP",
        "outputId": "fd82f7d3-0a65-42ce-c972-036a6d2b403e"
      },
      "outputs": [
        {
          "data": {
            "text/plain": [
              "['svm_model_PCA.pkl']"
            ]
          },
          "execution_count": 27,
          "metadata": {},
          "output_type": "execute_result"
        }
      ],
      "source": [
        "joblib.dump(svm_PCA, 'svm_model_PCA.pkl')"
      ]
    },
    {
      "cell_type": "markdown",
      "metadata": {
        "id": "TGdsENch8DU3"
      },
      "source": [
        "# SVR with PCA and RBF kernel metrics calculation"
      ]
    },
    {
      "cell_type": "code",
      "execution_count": null,
      "metadata": {
        "id": "h1gz5igclkhN"
      },
      "outputs": [],
      "source": [
        "svm_PCA_preds_test = svm_PCA.predict(X_PCA_test_lm)\n"
      ]
    },
    {
      "cell_type": "code",
      "execution_count": null,
      "metadata": {
        "id": "XQL6aRyMmDre"
      },
      "outputs": [],
      "source": [
        "rmse_svm_PCA_test = mean_squared_error(merged_test_data['rating'].values, svm_PCA_preds_test)\n",
        "mae_svm_PCA_test = mean_absolute_error(merged_test_data['rating'].values, svm_PCA_preds_test)"
      ]
    },
    {
      "cell_type": "code",
      "execution_count": null,
      "metadata": {
        "colab": {
          "base_uri": "https://localhost:8080/"
        },
        "id": "fJ8W6UdHmvOC",
        "outputId": "eaa5217f-4afd-4db6-f090-007dd401b8d1"
      },
      "outputs": [
        {
          "name": "stdout",
          "output_type": "stream",
          "text": [
            "SVR - RBF kernel with PCA test score - MAE - 0.9956080144487983\n",
            "SVR - RBF kernel with PCA test score - RMSE - 1.3982190170590407\n"
          ]
        }
      ],
      "source": [
        "print(f'SVR - RBF kernel with PCA test score - MAE - {mae_svm_PCA_test}')\n",
        "print(f'SVR - RBF kernel with PCA test score - RMSE - {rmse_svm_PCA_test}')"
      ]
    },
    {
      "cell_type": "code",
      "execution_count": null,
      "metadata": {
        "id": "I6jKUTdZ1a08"
      },
      "outputs": [],
      "source": [
        "best_preds = svm_PCA_preds_test # for NDCG calculation\n"
      ]
    },
    {
      "cell_type": "markdown",
      "metadata": {
        "id": "QNr-oxxP8qrU"
      },
      "source": [
        "## Load Saved SVR Model"
      ]
    },
    {
      "cell_type": "code",
      "execution_count": null,
      "metadata": {
        "id": "st_FpVd0RYul"
      },
      "outputs": [],
      "source": [
        "svm_PCA = joblib.load('svm_model_PCA.pkl')\n"
      ]
    },
    {
      "cell_type": "markdown",
      "metadata": {
        "id": "SCkuS3pK2UCa"
      },
      "source": [
        "# Random Forest Regression Model"
      ]
    },
    {
      "cell_type": "code",
      "execution_count": null,
      "metadata": {
        "id": "Z0oXF52xDDCZ"
      },
      "outputs": [],
      "source": [
        "# Random Forest Model\n",
        "rf = RandomForestRegressor(n_estimators=20, random_state=42)\n",
        "rf.fit(X_train_lm, train_df['rating'].values)\n",
        "rf_preds = rf.predict(X_val_lm)\n",
        "mse_rf = mean_squared_error(val_df['rating'].values, rf_preds)"
      ]
    },
    {
      "cell_type": "code",
      "execution_count": null,
      "metadata": {
        "id": "BPZ9HHv9VjVC"
      },
      "outputs": [],
      "source": [
        "rf_preds_test = rf.predict(X_test_lm)\n",
        "mse_rf = mean_squared_error(merged_test_data['rating'].values, rf_preds_test)"
      ]
    },
    {
      "cell_type": "code",
      "execution_count": null,
      "metadata": {
        "id": "mFuecisXeOAz"
      },
      "outputs": [],
      "source": [
        "# Random Forest Model - PCA\n",
        "rf_PCA = RandomForestRegressor(n_estimators=20, random_state=42)\n",
        "rf_PCA.fit(X_PCA_train_lm, train_df['rating'].values)\n",
        "rf_PCA_preds = rf_PCA.predict(X_PCA_val_lm)\n",
        "mse_rf_PCA = mean_squared_error(val_df['rating'].values, rf_PCA_preds)"
      ]
    },
    {
      "cell_type": "code",
      "execution_count": null,
      "metadata": {
        "id": "FVZ2GF1B80_y"
      },
      "outputs": [],
      "source": [
        "print(f'Random forest with PCA validation score - MSE - {mse_rf_PCA}')"
      ]
    },
    {
      "cell_type": "markdown",
      "metadata": {
        "id": "wepNP0qV9NmA"
      },
      "source": [
        "### Save Random forest model with PCA data"
      ]
    },
    {
      "cell_type": "code",
      "execution_count": null,
      "metadata": {
        "colab": {
          "base_uri": "https://localhost:8080/"
        },
        "id": "S7ql_fEcfVw6",
        "outputId": "97fe2115-97bb-4e7d-f0b5-cd25f3c8633a"
      },
      "outputs": [
        {
          "data": {
            "text/plain": [
              "['rf_model_PCA.pkl']"
            ]
          },
          "execution_count": 49,
          "metadata": {},
          "output_type": "execute_result"
        }
      ],
      "source": [
        "joblib.dump(rf_PCA, 'rf_model_PCA.pkl')"
      ]
    },
    {
      "cell_type": "markdown",
      "metadata": {
        "id": "h8yADOcv86OZ"
      },
      "source": [
        "# Random Forest regression with 20 estimators and PCA data metrics calculation"
      ]
    },
    {
      "cell_type": "code",
      "execution_count": null,
      "metadata": {
        "id": "9DsesIR3e0kK"
      },
      "outputs": [],
      "source": [
        "rf_PCA_preds_test = rf_PCA.predict(X_PCA_test_lm)\n",
        "rmse_rf_PCA_test = root_mean_squared_error(merged_test_data['rating'].values, rf_PCA_preds_test)\n",
        "mae_rf_PCA_test = mean_absolute_error(merged_test_data['rating'].values, rf_PCA_preds_test)"
      ]
    },
    {
      "cell_type": "code",
      "execution_count": null,
      "metadata": {
        "colab": {
          "base_uri": "https://localhost:8080/"
        },
        "id": "suwqSo_ojrfp",
        "outputId": "61d6c738-f231-4a37-e640-1a3d344f7e41"
      },
      "outputs": [
        {
          "name": "stdout",
          "output_type": "stream",
          "text": [
            "Random forest with PCA test score - MAE - 0.5297155219003721\n",
            "Random forest with PCA test score - RMSE - 0.7412247380143584\n"
          ]
        }
      ],
      "source": [
        "print(f'Random forest with PCA test score - MAE - {mae_rf_PCA_test}')\n",
        "print(f'Random forest with PCA test score - RMSE - {rmse_rf_PCA_test}')"
      ]
    },
    {
      "cell_type": "code",
      "execution_count": null,
      "metadata": {
        "id": "_TDEbEr5kco3"
      },
      "outputs": [],
      "source": [
        "best_preds = rf_PCA_preds_test # for NDCG calculation"
      ]
    },
    {
      "cell_type": "markdown",
      "metadata": {
        "id": "4jQQU9mf9ZL3"
      },
      "source": [
        "## Load Random Forest regression with 20 estimators and PCA data Model"
      ]
    },
    {
      "cell_type": "code",
      "execution_count": null,
      "metadata": {
        "id": "Ld8sqqCjfhdu"
      },
      "outputs": [],
      "source": [
        "rf_PCA = joblib.load('rf_model_PCA.pkl')"
      ]
    },
    {
      "cell_type": "markdown",
      "metadata": {
        "id": "VZb29ZFb9o64"
      },
      "source": [
        "Saving and Loading ML models"
      ]
    },
    {
      "cell_type": "code",
      "execution_count": null,
      "metadata": {
        "colab": {
          "base_uri": "https://localhost:8080/"
        },
        "id": "NoCdVFD8lqkY",
        "outputId": "7944160d-c2b3-4111-db09-df4c014bfbb3"
      },
      "outputs": [
        {
          "data": {
            "text/plain": [
              "['rf_model.pkl']"
            ]
          },
          "execution_count": 86,
          "metadata": {},
          "output_type": "execute_result"
        }
      ],
      "source": [
        "# Save the trained models\n",
        "joblib.dump(svm, 'svm_model.pkl')\n",
        "joblib.dump(rf, 'rf_model.pkl')"
      ]
    },
    {
      "cell_type": "code",
      "execution_count": null,
      "metadata": {
        "id": "6RuctSjFmAk-"
      },
      "outputs": [],
      "source": [
        "# Load the models back\n",
        "svm_model_loaded = joblib.load('svm_model.pkl')\n",
        "rf_model_loaded = joblib.load('rf_model.pkl')"
      ]
    },
    {
      "cell_type": "code",
      "execution_count": null,
      "metadata": {
        "id": "CIZ1YjmqmfPm"
      },
      "outputs": [],
      "source": []
    },
    {
      "cell_type": "markdown",
      "metadata": {
        "id": "UppwThaN2xgl"
      },
      "source": [
        "### NDCG and NDCG_10 functions"
      ]
    },
    {
      "cell_type": "code",
      "execution_count": null,
      "metadata": {
        "id": "fPd19nt5Ayq6"
      },
      "outputs": [],
      "source": [
        "def dcg_k(score_label, k):\n",
        "    dcg, i = 0., 0\n",
        "    for s in score_label:\n",
        "        if i < k:\n",
        "            dcg += (2**s[1]-1) / np.log2(2+i)\n",
        "            i += 1\n",
        "    return dcg\n",
        "\n",
        "def ndcg_k(y_hat, y, k):\n",
        "    score_label = np.stack([y_hat, y], axis=1).tolist()\n",
        "    score_label = sorted(score_label, key=lambda d:d[0], reverse=True)\n",
        "    score_label_ = sorted(score_label, key=lambda d:d[1], reverse=True)\n",
        "    norm, i = 0., 0\n",
        "    for s in score_label_:\n",
        "        if i < k:\n",
        "            norm += (2**s[1]-1) / np.log2(2+i)\n",
        "            i += 1\n",
        "    dcg = dcg_k(score_label, k)\n",
        "    return dcg / norm\n",
        "\n",
        "def call_ndcg(y_hat, y):\n",
        "    ndcg_sum, num = 0, 0\n",
        "    y_hat, y = y_hat.T, y.T\n",
        "    n_users = y.shape[0]\n",
        "\n",
        "    for i in range(n_users):\n",
        "        y_hat_i = y_hat[i][np.where(y[i])]\n",
        "        y_i = y[i][np.where(y[i])]\n",
        "\n",
        "        if y_i.shape[0] < 2:\n",
        "            continue\n",
        "\n",
        "        ndcg_sum += ndcg_k(y_hat_i, y_i, y_i.shape[0])  # user-wise calculation\n",
        "        num += 1\n",
        "\n",
        "    return ndcg_sum / num\n",
        "\n",
        "def call_ndcg_10(y_hat, y):\n",
        "    ndcg_sum, num = 0, 0\n",
        "    y_hat, y = y_hat.T, y.T\n",
        "    n_users = y.shape[0]\n",
        "\n",
        "    for i in range(n_users):\n",
        "        y_hat_i = y_hat[i][np.where(y[i])]\n",
        "        y_i = y[i][np.where(y[i])]\n",
        "\n",
        "        if y_i.shape[0] < 2:\n",
        "            continue\n",
        "\n",
        "        ndcg_sum += ndcg_k(y_hat_i, y_i, 10)  # user-wise calculation\n",
        "        num += 1\n",
        "\n",
        "    return ndcg_sum / num"
      ]
    },
    {
      "cell_type": "markdown",
      "metadata": {
        "id": "R_JQRltm28cp"
      },
      "source": [
        "Matrix preparation for NDCG"
      ]
    },
    {
      "cell_type": "code",
      "execution_count": null,
      "metadata": {
        "id": "gd0hotfNWa9t"
      },
      "outputs": [],
      "source": [
        "y_matrix = merged_test_data.pivot(index='movieId', columns='userId', values='rating')\n",
        "y_matrix = y_matrix.fillna(1e-16)\n",
        "y = y_matrix.to_numpy()"
      ]
    },
    {
      "cell_type": "code",
      "execution_count": null,
      "metadata": {
        "id": "ZEYSzjFTA4pT"
      },
      "outputs": [],
      "source": [
        "merged_test_data_hat = merged_test_data.copy()\n",
        "merged_test_data_hat['rating'] = best_preds\n",
        "y_hat_matrix = merged_test_data_hat.pivot(index='movieId', columns='userId', values='rating')\n",
        "y_hat_matrix = y_hat_matrix.fillna(1e-16)\n",
        "y_hat = y_hat_matrix.to_numpy()\n"
      ]
    },
    {
      "cell_type": "code",
      "execution_count": null,
      "metadata": {
        "id": "tBVzVeZmW4IZ"
      },
      "outputs": [],
      "source": [
        "ndcg_Val = call_ndcg(y_hat, y)\n",
        "ndcg_10_Val = call_ndcg_10(y_hat, y)\n"
      ]
    },
    {
      "cell_type": "code",
      "source": [
        "print(f'Neural Network - Validation score - NDCG - {ndcg_Val}')\n",
        "print(f'Neural Network - Validation score - NDCG_10 - {ndcg_10_Val}')"
      ],
      "metadata": {
        "colab": {
          "base_uri": "https://localhost:8080/"
        },
        "id": "LYJcyonI9vfT",
        "outputId": "ee6316cf-aaae-4928-dce4-c5674b830592"
      },
      "execution_count": null,
      "outputs": [
        {
          "output_type": "stream",
          "name": "stdout",
          "text": [
            "Neural Network - Validation score - NDCG - 0.9352666203065995\n",
            "Neural Network - Validation score - NDCG_10 - 0.8392399849971608\n"
          ]
        }
      ]
    },
    {
      "cell_type": "markdown",
      "metadata": {
        "id": "Hh36-mS4hCEx"
      },
      "source": [
        "# ADD Model metrics to Dataframe and save as CSV"
      ]
    },
    {
      "cell_type": "code",
      "execution_count": null,
      "metadata": {
        "colab": {
          "base_uri": "https://localhost:8080/"
        },
        "id": "aanfIy1vUL7l",
        "outputId": "40f805c7-bc10-4dc4-d22d-a2a8279a8985"
      },
      "outputs": [
        {
          "data": {
            "text/plain": [
              "0.9314661007898867"
            ]
          },
          "execution_count": 27,
          "metadata": {},
          "output_type": "execute_result"
        }
      ],
      "source": [
        "ndcg_Val"
      ]
    },
    {
      "cell_type": "code",
      "execution_count": null,
      "metadata": {
        "colab": {
          "base_uri": "https://localhost:8080/"
        },
        "id": "Akve-U61YTWX",
        "outputId": "24a3f4ad-be2d-44ed-f39d-54e368f79a92"
      },
      "outputs": [
        {
          "data": {
            "text/plain": [
              "0.8285462084394231"
            ]
          },
          "execution_count": 28,
          "metadata": {},
          "output_type": "execute_result"
        }
      ],
      "source": [
        "ndcg_10_Val"
      ]
    },
    {
      "cell_type": "code",
      "execution_count": null,
      "metadata": {
        "id": "l1qAxKBLlE7X"
      },
      "outputs": [],
      "source": [
        "print(f'SVR - RBF kernel with PCA test score - MAE - {mae_svm_PCA_test}')\n",
        "print(f'SVR - RBF kernel with PCA test score - RMSE - {rmse_svm_PCA_test}')"
      ]
    },
    {
      "cell_type": "code",
      "execution_count": null,
      "metadata": {
        "id": "aLXb1nbsa0eK"
      },
      "outputs": [],
      "source": [
        "new_row = {'model_name': 'SVM with PCA - 2000 iterations', 'number_of_users': 2000, 'number_of_movies': 3000 ,'RMSE':rmse_svm_PCA_test, 'MAE': mae_svm_PCA_test, 'NDCG': ndcg_Val, 'NDCG_10': ndcg_10_Val}\n",
        "model_metrics_df = pd.concat([model_metrics_df, pd.DataFrame([new_row])], ignore_index=True)"
      ]
    },
    {
      "cell_type": "code",
      "execution_count": null,
      "metadata": {
        "colab": {
          "base_uri": "https://localhost:8080/",
          "height": 173
        },
        "id": "Fx3ptbZvcdUb",
        "outputId": "b82f26d8-2821-45ae-d7a6-44b26818fd0c"
      },
      "outputs": [
        {
          "data": {
            "application/vnd.google.colaboratory.intrinsic+json": {
              "summary": "{\n  \"name\": \"model_metrics_df\",\n  \"rows\": 4,\n  \"fields\": [\n    {\n      \"column\": \"model_name\",\n      \"properties\": {\n        \"dtype\": \"string\",\n        \"num_unique_values\": 4,\n        \"samples\": [\n          \"Random forest with PCA - 20 estimators\",\n          \"SVM with PCA - 2000 iterations\",\n          \"Neural Network\"\n        ],\n        \"semantic_type\": \"\",\n        \"description\": \"\"\n      }\n    },\n    {\n      \"column\": \"number_of_users\",\n      \"properties\": {\n        \"dtype\": \"number\",\n        \"std\": 0,\n        \"min\": 2000,\n        \"max\": 2000,\n        \"num_unique_values\": 1,\n        \"samples\": [\n          2000\n        ],\n        \"semantic_type\": \"\",\n        \"description\": \"\"\n      }\n    },\n    {\n      \"column\": \"number_of_movies\",\n      \"properties\": {\n        \"dtype\": \"number\",\n        \"std\": 0,\n        \"min\": 3000,\n        \"max\": 3000,\n        \"num_unique_values\": 1,\n        \"samples\": [\n          3000\n        ],\n        \"semantic_type\": \"\",\n        \"description\": \"\"\n      }\n    },\n    {\n      \"column\": \"RMSE\",\n      \"properties\": {\n        \"dtype\": \"number\",\n        \"std\": 0.49485277713040837,\n        \"min\": 0.7412247380143584,\n        \"max\": 1.7613546435594143,\n        \"num_unique_values\": 4,\n        \"samples\": [\n          0.7412247380143584\n        ],\n        \"semantic_type\": \"\",\n        \"description\": \"\"\n      }\n    },\n    {\n      \"column\": \"MAE\",\n      \"properties\": {\n        \"dtype\": \"number\",\n        \"std\": 0.30232016517719706,\n        \"min\": 0.5297155219003721,\n        \"max\": 1.136178360892911,\n        \"num_unique_values\": 4,\n        \"samples\": [\n          0.5297155219003721\n        ],\n        \"semantic_type\": \"\",\n        \"description\": \"\"\n      }\n    },\n    {\n      \"column\": \"NDCG\",\n      \"properties\": {\n        \"dtype\": \"number\",\n        \"std\": 0.027371821107749626,\n        \"min\": 0.8926033710070235,\n        \"max\": 0.9487685116893354,\n        \"num_unique_values\": 4,\n        \"samples\": [\n          0.9487685116893354\n        ],\n        \"semantic_type\": \"\",\n        \"description\": \"\"\n      }\n    },\n    {\n      \"column\": \"NDCG_10\",\n      \"properties\": {\n        \"dtype\": \"number\",\n        \"std\": 0.07379765921358186,\n        \"min\": 0.7287005341560018,\n        \"max\": 0.8838697859353148,\n        \"num_unique_values\": 4,\n        \"samples\": [\n          0.8838697859353148\n        ],\n        \"semantic_type\": \"\",\n        \"description\": \"\"\n      }\n    }\n  ]\n}",
              "type": "dataframe",
              "variable_name": "model_metrics_df"
            },
            "text/html": [
              "\n",
              "  <div id=\"df-d6ab23ea-a171-477d-b8de-497598da03b5\" class=\"colab-df-container\">\n",
              "    <div>\n",
              "<style scoped>\n",
              "    .dataframe tbody tr th:only-of-type {\n",
              "        vertical-align: middle;\n",
              "    }\n",
              "\n",
              "    .dataframe tbody tr th {\n",
              "        vertical-align: top;\n",
              "    }\n",
              "\n",
              "    .dataframe thead th {\n",
              "        text-align: right;\n",
              "    }\n",
              "</style>\n",
              "<table border=\"1\" class=\"dataframe\">\n",
              "  <thead>\n",
              "    <tr style=\"text-align: right;\">\n",
              "      <th></th>\n",
              "      <th>model_name</th>\n",
              "      <th>number_of_users</th>\n",
              "      <th>number_of_movies</th>\n",
              "      <th>RMSE</th>\n",
              "      <th>MAE</th>\n",
              "      <th>NDCG</th>\n",
              "      <th>NDCG_10</th>\n",
              "    </tr>\n",
              "  </thead>\n",
              "  <tbody>\n",
              "    <tr>\n",
              "      <th>0</th>\n",
              "      <td>Neural Network</td>\n",
              "      <td>2000</td>\n",
              "      <td>3000</td>\n",
              "      <td>0.783980</td>\n",
              "      <td>0.575923</td>\n",
              "      <td>0.931466</td>\n",
              "      <td>0.828546</td>\n",
              "    </tr>\n",
              "    <tr>\n",
              "      <th>1</th>\n",
              "      <td>Random forest with PCA - 20 estimators</td>\n",
              "      <td>2000</td>\n",
              "      <td>3000</td>\n",
              "      <td>0.741225</td>\n",
              "      <td>0.529716</td>\n",
              "      <td>0.948769</td>\n",
              "      <td>0.883870</td>\n",
              "    </tr>\n",
              "    <tr>\n",
              "      <th>2</th>\n",
              "      <td>SVM with PCA - 1000 iterations</td>\n",
              "      <td>2000</td>\n",
              "      <td>3000</td>\n",
              "      <td>1.761355</td>\n",
              "      <td>1.136178</td>\n",
              "      <td>0.892603</td>\n",
              "      <td>0.728701</td>\n",
              "    </tr>\n",
              "    <tr>\n",
              "      <th>4</th>\n",
              "      <td>SVM with PCA - 2000 iterations</td>\n",
              "      <td>2000</td>\n",
              "      <td>3000</td>\n",
              "      <td>1.398219</td>\n",
              "      <td>0.995608</td>\n",
              "      <td>0.896163</td>\n",
              "      <td>0.740958</td>\n",
              "    </tr>\n",
              "  </tbody>\n",
              "</table>\n",
              "</div>\n",
              "    <div class=\"colab-df-buttons\">\n",
              "\n",
              "  <div class=\"colab-df-container\">\n",
              "    <button class=\"colab-df-convert\" onclick=\"convertToInteractive('df-d6ab23ea-a171-477d-b8de-497598da03b5')\"\n",
              "            title=\"Convert this dataframe to an interactive table.\"\n",
              "            style=\"display:none;\">\n",
              "\n",
              "  <svg xmlns=\"http://www.w3.org/2000/svg\" height=\"24px\" viewBox=\"0 -960 960 960\">\n",
              "    <path d=\"M120-120v-720h720v720H120Zm60-500h600v-160H180v160Zm220 220h160v-160H400v160Zm0 220h160v-160H400v160ZM180-400h160v-160H180v160Zm440 0h160v-160H620v160ZM180-180h160v-160H180v160Zm440 0h160v-160H620v160Z\"/>\n",
              "  </svg>\n",
              "    </button>\n",
              "\n",
              "  <style>\n",
              "    .colab-df-container {\n",
              "      display:flex;\n",
              "      gap: 12px;\n",
              "    }\n",
              "\n",
              "    .colab-df-convert {\n",
              "      background-color: #E8F0FE;\n",
              "      border: none;\n",
              "      border-radius: 50%;\n",
              "      cursor: pointer;\n",
              "      display: none;\n",
              "      fill: #1967D2;\n",
              "      height: 32px;\n",
              "      padding: 0 0 0 0;\n",
              "      width: 32px;\n",
              "    }\n",
              "\n",
              "    .colab-df-convert:hover {\n",
              "      background-color: #E2EBFA;\n",
              "      box-shadow: 0px 1px 2px rgba(60, 64, 67, 0.3), 0px 1px 3px 1px rgba(60, 64, 67, 0.15);\n",
              "      fill: #174EA6;\n",
              "    }\n",
              "\n",
              "    .colab-df-buttons div {\n",
              "      margin-bottom: 4px;\n",
              "    }\n",
              "\n",
              "    [theme=dark] .colab-df-convert {\n",
              "      background-color: #3B4455;\n",
              "      fill: #D2E3FC;\n",
              "    }\n",
              "\n",
              "    [theme=dark] .colab-df-convert:hover {\n",
              "      background-color: #434B5C;\n",
              "      box-shadow: 0px 1px 3px 1px rgba(0, 0, 0, 0.15);\n",
              "      filter: drop-shadow(0px 1px 2px rgba(0, 0, 0, 0.3));\n",
              "      fill: #FFFFFF;\n",
              "    }\n",
              "  </style>\n",
              "\n",
              "    <script>\n",
              "      const buttonEl =\n",
              "        document.querySelector('#df-d6ab23ea-a171-477d-b8de-497598da03b5 button.colab-df-convert');\n",
              "      buttonEl.style.display =\n",
              "        google.colab.kernel.accessAllowed ? 'block' : 'none';\n",
              "\n",
              "      async function convertToInteractive(key) {\n",
              "        const element = document.querySelector('#df-d6ab23ea-a171-477d-b8de-497598da03b5');\n",
              "        const dataTable =\n",
              "          await google.colab.kernel.invokeFunction('convertToInteractive',\n",
              "                                                    [key], {});\n",
              "        if (!dataTable) return;\n",
              "\n",
              "        const docLinkHtml = 'Like what you see? Visit the ' +\n",
              "          '<a target=\"_blank\" href=https://colab.research.google.com/notebooks/data_table.ipynb>data table notebook</a>'\n",
              "          + ' to learn more about interactive tables.';\n",
              "        element.innerHTML = '';\n",
              "        dataTable['output_type'] = 'display_data';\n",
              "        await google.colab.output.renderOutput(dataTable, element);\n",
              "        const docLink = document.createElement('div');\n",
              "        docLink.innerHTML = docLinkHtml;\n",
              "        element.appendChild(docLink);\n",
              "      }\n",
              "    </script>\n",
              "  </div>\n",
              "\n",
              "\n",
              "<div id=\"df-7af48494-c509-4025-9d34-bf52da2b9ae6\">\n",
              "  <button class=\"colab-df-quickchart\" onclick=\"quickchart('df-7af48494-c509-4025-9d34-bf52da2b9ae6')\"\n",
              "            title=\"Suggest charts\"\n",
              "            style=\"display:none;\">\n",
              "\n",
              "<svg xmlns=\"http://www.w3.org/2000/svg\" height=\"24px\"viewBox=\"0 0 24 24\"\n",
              "     width=\"24px\">\n",
              "    <g>\n",
              "        <path d=\"M19 3H5c-1.1 0-2 .9-2 2v14c0 1.1.9 2 2 2h14c1.1 0 2-.9 2-2V5c0-1.1-.9-2-2-2zM9 17H7v-7h2v7zm4 0h-2V7h2v10zm4 0h-2v-4h2v4z\"/>\n",
              "    </g>\n",
              "</svg>\n",
              "  </button>\n",
              "\n",
              "<style>\n",
              "  .colab-df-quickchart {\n",
              "      --bg-color: #E8F0FE;\n",
              "      --fill-color: #1967D2;\n",
              "      --hover-bg-color: #E2EBFA;\n",
              "      --hover-fill-color: #174EA6;\n",
              "      --disabled-fill-color: #AAA;\n",
              "      --disabled-bg-color: #DDD;\n",
              "  }\n",
              "\n",
              "  [theme=dark] .colab-df-quickchart {\n",
              "      --bg-color: #3B4455;\n",
              "      --fill-color: #D2E3FC;\n",
              "      --hover-bg-color: #434B5C;\n",
              "      --hover-fill-color: #FFFFFF;\n",
              "      --disabled-bg-color: #3B4455;\n",
              "      --disabled-fill-color: #666;\n",
              "  }\n",
              "\n",
              "  .colab-df-quickchart {\n",
              "    background-color: var(--bg-color);\n",
              "    border: none;\n",
              "    border-radius: 50%;\n",
              "    cursor: pointer;\n",
              "    display: none;\n",
              "    fill: var(--fill-color);\n",
              "    height: 32px;\n",
              "    padding: 0;\n",
              "    width: 32px;\n",
              "  }\n",
              "\n",
              "  .colab-df-quickchart:hover {\n",
              "    background-color: var(--hover-bg-color);\n",
              "    box-shadow: 0 1px 2px rgba(60, 64, 67, 0.3), 0 1px 3px 1px rgba(60, 64, 67, 0.15);\n",
              "    fill: var(--button-hover-fill-color);\n",
              "  }\n",
              "\n",
              "  .colab-df-quickchart-complete:disabled,\n",
              "  .colab-df-quickchart-complete:disabled:hover {\n",
              "    background-color: var(--disabled-bg-color);\n",
              "    fill: var(--disabled-fill-color);\n",
              "    box-shadow: none;\n",
              "  }\n",
              "\n",
              "  .colab-df-spinner {\n",
              "    border: 2px solid var(--fill-color);\n",
              "    border-color: transparent;\n",
              "    border-bottom-color: var(--fill-color);\n",
              "    animation:\n",
              "      spin 1s steps(1) infinite;\n",
              "  }\n",
              "\n",
              "  @keyframes spin {\n",
              "    0% {\n",
              "      border-color: transparent;\n",
              "      border-bottom-color: var(--fill-color);\n",
              "      border-left-color: var(--fill-color);\n",
              "    }\n",
              "    20% {\n",
              "      border-color: transparent;\n",
              "      border-left-color: var(--fill-color);\n",
              "      border-top-color: var(--fill-color);\n",
              "    }\n",
              "    30% {\n",
              "      border-color: transparent;\n",
              "      border-left-color: var(--fill-color);\n",
              "      border-top-color: var(--fill-color);\n",
              "      border-right-color: var(--fill-color);\n",
              "    }\n",
              "    40% {\n",
              "      border-color: transparent;\n",
              "      border-right-color: var(--fill-color);\n",
              "      border-top-color: var(--fill-color);\n",
              "    }\n",
              "    60% {\n",
              "      border-color: transparent;\n",
              "      border-right-color: var(--fill-color);\n",
              "    }\n",
              "    80% {\n",
              "      border-color: transparent;\n",
              "      border-right-color: var(--fill-color);\n",
              "      border-bottom-color: var(--fill-color);\n",
              "    }\n",
              "    90% {\n",
              "      border-color: transparent;\n",
              "      border-bottom-color: var(--fill-color);\n",
              "    }\n",
              "  }\n",
              "</style>\n",
              "\n",
              "  <script>\n",
              "    async function quickchart(key) {\n",
              "      const quickchartButtonEl =\n",
              "        document.querySelector('#' + key + ' button');\n",
              "      quickchartButtonEl.disabled = true;  // To prevent multiple clicks.\n",
              "      quickchartButtonEl.classList.add('colab-df-spinner');\n",
              "      try {\n",
              "        const charts = await google.colab.kernel.invokeFunction(\n",
              "            'suggestCharts', [key], {});\n",
              "      } catch (error) {\n",
              "        console.error('Error during call to suggestCharts:', error);\n",
              "      }\n",
              "      quickchartButtonEl.classList.remove('colab-df-spinner');\n",
              "      quickchartButtonEl.classList.add('colab-df-quickchart-complete');\n",
              "    }\n",
              "    (() => {\n",
              "      let quickchartButtonEl =\n",
              "        document.querySelector('#df-7af48494-c509-4025-9d34-bf52da2b9ae6 button');\n",
              "      quickchartButtonEl.style.display =\n",
              "        google.colab.kernel.accessAllowed ? 'block' : 'none';\n",
              "    })();\n",
              "  </script>\n",
              "</div>\n",
              "\n",
              "    </div>\n",
              "  </div>\n"
            ],
            "text/plain": [
              "                               model_name  number_of_users  number_of_movies  \\\n",
              "0                          Neural Network             2000              3000   \n",
              "1  Random forest with PCA - 20 estimators             2000              3000   \n",
              "2          SVM with PCA - 1000 iterations             2000              3000   \n",
              "4          SVM with PCA - 2000 iterations             2000              3000   \n",
              "\n",
              "       RMSE       MAE      NDCG   NDCG_10  \n",
              "0  0.783980  0.575923  0.931466  0.828546  \n",
              "1  0.741225  0.529716  0.948769  0.883870  \n",
              "2  1.761355  1.136178  0.892603  0.728701  \n",
              "4  1.398219  0.995608  0.896163  0.740958  "
            ]
          },
          "execution_count": 53,
          "metadata": {},
          "output_type": "execute_result"
        }
      ],
      "source": [
        "model_metrics_df.head()"
      ]
    },
    {
      "cell_type": "code",
      "execution_count": null,
      "metadata": {
        "id": "vF15QNpXcvtT"
      },
      "outputs": [],
      "source": [
        "# 'model_metrics_df' saved as model_metrics.csv\n",
        "\n",
        "model_metrics_df.to_csv('model_metrics.csv', index=False)"
      ]
    },
    {
      "cell_type": "markdown",
      "metadata": {
        "id": "jV5NWXdz3V4K"
      },
      "source": [
        "If runtimes re-starts"
      ]
    },
    {
      "cell_type": "code",
      "execution_count": null,
      "metadata": {
        "id": "Cq42P2OfwKVP"
      },
      "outputs": [],
      "source": [
        "model_metrics_df = pd.read_csv('model_metrics.csv')"
      ]
    }
  ],
  "metadata": {
    "colab": {
      "provenance": [],
      "include_colab_link": true
    },
    "kernelspec": {
      "display_name": "Python 3",
      "name": "python3"
    }
  },
  "nbformat": 4,
  "nbformat_minor": 0
}